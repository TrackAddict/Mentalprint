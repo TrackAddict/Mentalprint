{
 "cells": [
  {
   "cell_type": "code",
   "execution_count": 5,
   "metadata": {
    "collapsed": true
   },
   "outputs": [],
   "source": [
    "import numpy as np\n",
    "\n",
    "import sklearn as skl\n",
    "\n",
    "from sklearn.externals import joblib\n",
    "\n",
    "from sklearn.neighbors import KNeighborsClassifier\n",
    "\n",
    "from sklearn.linear_model import LogisticRegression"
   ]
  },
  {
   "cell_type": "code",
   "execution_count": 6,
   "metadata": {
    "collapsed": false
   },
   "outputs": [],
   "source": [
    "Michael_knn = 0\n",
    "\n",
    "Nathan_knn = 0\n",
    "\n",
    "Mark_knn = 0\n",
    "\n",
    "Michael_mlr = 0\n",
    "\n",
    "Mark_mlr = 0\n",
    "\n",
    "Nathan_mlr = 0\n",
    "\n",
    "knn_model = joblib.load('knn.pkl')\n",
    "\n",
    "mlr_model = joblib.load('mlr.pkl')\n",
    "\n",
    "data_points = np.loadtxt(\"../consider/examples/results2.csv\", delimiter=',')\n",
    "\n",
    "knn_predicted = knn_model.predict(data_points)\n",
    "\n",
    "mlr_predicted = mlr_model.predict(data_points)"
   ]
  },
  {
   "cell_type": "code",
   "execution_count": 7,
   "metadata": {
    "collapsed": false
   },
   "outputs": [
    {
     "name": "stdout",
     "output_type": "stream",
     "text": [
      "K-Nearest Neighbors thinks that you are Mark\n",
      "\n",
      "{'Mark': 73, 'Michael': 21, 'Nathan': 27}\n",
      "\n",
      "\n",
      "Softmax thinks that you are Nathan\n",
      "\n",
      "{'Mark': 44, 'Michael': 10, 'Nathan': 67}\n"
     ]
    }
   ],
   "source": [
    "for i in knn_predicted:\n",
    "\n",
    "    if i == 1.0:\n",
    "        \n",
    "        Michael_knn += 1\n",
    "\n",
    "    elif i == 2.0:\n",
    "        \n",
    "        Mark_knn += 1\n",
    "        \n",
    "    elif i == 3.0:\n",
    "        \n",
    "        Nathan_knn += 1\n",
    "\n",
    "for i in mlr_predicted:\n",
    "\n",
    "    if i == 1.0:\n",
    "\n",
    "        Michael_mlr += 1\n",
    "\n",
    "    elif i == 2.0:\n",
    "\n",
    "        Mark_mlr += 1\n",
    "\n",
    "    elif i == 3.0:\n",
    "\n",
    "        Nathan_mlr += 1\n",
    "\n",
    "\n",
    "# knn_dict = {'Michael': Michael_knn_pct, 'Mark': Mark_knn_pct, 'Nathan': Nathan_knn_pct}\n",
    "\n",
    "# mlr_dict = {'Michael': Michael_mlr_pct, 'Mark': Mark_mlr_pct, 'Nathan': Nathan_mlr_pct}\n",
    "\n",
    "knn_dict = {'Michael': Michael_knn, 'Mark': Mark_knn, 'Nathan': Nathan_knn}\n",
    "\n",
    "mlr_dict = {'Michael': Michael_mlr, 'Mark': Mark_mlr, 'Nathan': Nathan_mlr}\n",
    "\n",
    "knn_results = (Michael_knn, Mark_knn, Nathan_knn)\n",
    "\n",
    "mlr_results = (Michael_mlr, Mark_mlr, Nathan_mlr)\n",
    "\n",
    "knn_np = np.asarray(knn_results)\n",
    "\n",
    "mlr_np = np.asarray(mlr_results)\n",
    "\n",
    "knn_winner = 0\n",
    "\n",
    "mlr_winner = 0\n",
    "\n",
    "for name, idx in knn_dict.items():\n",
    "    if idx == knn_np.max():\n",
    "        knn_winner = name\n",
    "\n",
    "for name2, idx2 in mlr_dict.items():\n",
    "    if idx2 == mlr_np.max():\n",
    "        mlr_winner = name2\n",
    "\n",
    "print(\"K-Nearest Neighbors thinks that you are {}\\n\".format(knn_winner))\n",
    "\n",
    "print(knn_dict)\n",
    "\n",
    "print('\\n')\n",
    "\n",
    "print(\"Softmax thinks that you are {}\\n\".format(mlr_winner))\n",
    "\n",
    "print(mlr_dict)"
   ]
  },
  {
   "cell_type": "code",
   "execution_count": null,
   "metadata": {
    "collapsed": true
   },
   "outputs": [],
   "source": []
  }
 ],
 "metadata": {
  "kernelspec": {
   "display_name": "Python 3",
   "language": "python",
   "name": "python3"
  },
  "language_info": {
   "codemirror_mode": {
    "name": "ipython",
    "version": 3
   },
   "file_extension": ".py",
   "mimetype": "text/x-python",
   "name": "python",
   "nbconvert_exporter": "python",
   "pygments_lexer": "ipython3",
   "version": "3.4.3"
  }
 },
 "nbformat": 4,
 "nbformat_minor": 0
}
